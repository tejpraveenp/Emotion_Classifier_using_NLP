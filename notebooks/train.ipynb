{
 "cells": [
  {
   "cell_type": "markdown",
   "id": "29d590e7",
   "metadata": {},
   "source": [
    "### Imports and Setup\n"
   ]
  },
  {
   "cell_type": "code",
   "execution_count": 1,
   "id": "0f45a8cf",
   "metadata": {},
   "outputs": [],
   "source": [
    "import sys\n",
    "sys.path.append(\"..\")\n",
    "\n",
    "import os\n",
    "from utils.preprocess import load_data, get_label_encoder\n",
    "from utils.fcnn import train_fcnn_model\n",
    "from utils.rnn import train_rnn_model\n",
    "from utils.transformer import train_transformer_model\n",
    "\n",
    "\n",
    "import warnings\n",
    "warnings.filterwarnings(\"ignore\")\n",
    "\n",
    "MODELS = \"../models/\""
   ]
  },
  {
   "cell_type": "code",
   "execution_count": 3,
   "id": "33a2acd7",
   "metadata": {},
   "outputs": [
    {
     "name": "stdout",
     "output_type": "stream",
     "text": [
      "Training datga sample:\n",
      "                                                text    label  label_id\n",
      "0                            i didnt feel humiliated  sadness         4\n",
      "1  i can go from feeling so hopeless to so damned...  sadness         4\n",
      "2   im grabbing a minute to post i feel greedy wrong    anger         0\n",
      "3  i am ever feeling nostalgic about the fireplac...     love         3\n",
      "4                               i am feeling grouchy    anger         0\n",
      "Label2ID mapping: {'anger': 0, 'fear': 1, 'joy': 2, 'love': 3, 'sadness': 4, 'surprise': 5}\n"
     ]
    }
   ],
   "source": [
    "# Load data\n",
    "train_df = load_data(\"../data/train.txt\")\n",
    "test_df = load_data(\"../data/test.txt\")\n",
    "\n",
    "# Encode labels\n",
    "label2id, id2label = get_label_encoder(train_df['label'])\n",
    "train_df['label_id'] = train_df['label'].map(label2id)\n",
    "test_df['label_id'] = test_df['label'].map(label2id)\n",
    "\n",
    "print(\"Training datga sample:\")\n",
    "print(train_df.head())\n",
    "print(\"Label2ID mapping:\", label2id)\n"
   ]
  },
  {
   "cell_type": "markdown",
   "id": "cbe0da3e",
   "metadata": {},
   "source": [
    "### Training FCNN"
   ]
  },
  {
   "cell_type": "code",
   "execution_count": 3,
   "id": "1bc7bdc4",
   "metadata": {},
   "outputs": [
    {
     "name": "stdout",
     "output_type": "stream",
     "text": [
      "Epoch 1/10\n",
      "500/500 - 3s - loss: 0.8772 - accuracy: 0.6689 - 3s/epoch - 7ms/step\n",
      "Epoch 2/10\n",
      "500/500 - 3s - loss: 0.2451 - accuracy: 0.9170 - 3s/epoch - 6ms/step\n",
      "Epoch 3/10\n",
      "500/500 - 3s - loss: 0.1028 - accuracy: 0.9663 - 3s/epoch - 6ms/step\n",
      "Epoch 4/10\n",
      "500/500 - 3s - loss: 0.0557 - accuracy: 0.9825 - 3s/epoch - 6ms/step\n",
      "Epoch 5/10\n",
      "500/500 - 3s - loss: 0.0359 - accuracy: 0.9891 - 3s/epoch - 6ms/step\n",
      "Epoch 6/10\n",
      "500/500 - 3s - loss: 0.0301 - accuracy: 0.9902 - 3s/epoch - 6ms/step\n",
      "Epoch 7/10\n",
      "500/500 - 3s - loss: 0.0286 - accuracy: 0.9916 - 3s/epoch - 6ms/step\n",
      "Epoch 8/10\n",
      "500/500 - 3s - loss: 0.0278 - accuracy: 0.9909 - 3s/epoch - 6ms/step\n",
      "Epoch 9/10\n",
      "500/500 - 3s - loss: 0.0220 - accuracy: 0.9931 - 3s/epoch - 6ms/step\n",
      "Epoch 10/10\n",
      "500/500 - 3s - loss: 0.0178 - accuracy: 0.9952 - 3s/epoch - 6ms/step\n",
      "63/63 [==============================] - 0s 3ms/step\n",
      "\n",
      "FCNN Classification Report:\n",
      "\n",
      "              precision    recall  f1-score   support\n",
      "\n",
      "       anger       0.87      0.83      0.85       275\n",
      "        fear       0.87      0.78      0.82       224\n",
      "         joy       0.84      0.93      0.88       695\n",
      "        love       0.74      0.59      0.66       159\n",
      "     sadness       0.89      0.91      0.90       581\n",
      "    surprise       0.84      0.55      0.66        66\n",
      "\n",
      "    accuracy                           0.85      2000\n",
      "   macro avg       0.84      0.76      0.79      2000\n",
      "weighted avg       0.85      0.85      0.85      2000\n",
      "\n",
      "FCNN model saved.\n"
     ]
    }
   ],
   "source": [
    "fcnn_model = train_fcnn_model(train_df, test_df, label2id, epochs=10)\n",
    "fcnn_model.save(os.path.join(MODELS, \"fcnn_model.keras\"))\n",
    "print(\"FCNN model saved.\")\n"
   ]
  },
  {
   "cell_type": "markdown",
   "id": "700e1b4f",
   "metadata": {},
   "source": [
    "### Training RNN with LSTM"
   ]
  },
  {
   "cell_type": "code",
   "execution_count": 4,
   "id": "38bf2d55",
   "metadata": {},
   "outputs": [
    {
     "name": "stdout",
     "output_type": "stream",
     "text": [
      "Epoch 1/12\n",
      "500/500 - 14s - loss: 1.5951 - accuracy: 0.3279 - 14s/epoch - 28ms/step\n",
      "Epoch 2/12\n",
      "500/500 - 12s - loss: 1.5815 - accuracy: 0.3328 - 12s/epoch - 24ms/step\n",
      "Epoch 3/12\n",
      "500/500 - 12s - loss: 1.5371 - accuracy: 0.3402 - 12s/epoch - 24ms/step\n",
      "Epoch 4/12\n",
      "500/500 - 12s - loss: 1.4840 - accuracy: 0.3694 - 12s/epoch - 25ms/step\n",
      "Epoch 5/12\n",
      "500/500 - 12s - loss: 1.4284 - accuracy: 0.3714 - 12s/epoch - 25ms/step\n",
      "Epoch 6/12\n",
      "500/500 - 13s - loss: 1.5031 - accuracy: 0.3462 - 13s/epoch - 25ms/step\n",
      "Epoch 7/12\n",
      "500/500 - 13s - loss: 1.5080 - accuracy: 0.3641 - 13s/epoch - 25ms/step\n",
      "Epoch 8/12\n",
      "500/500 - 13s - loss: 1.5353 - accuracy: 0.3563 - 13s/epoch - 25ms/step\n",
      "Epoch 9/12\n",
      "500/500 - 13s - loss: 1.5239 - accuracy: 0.3536 - 13s/epoch - 25ms/step\n",
      "Epoch 10/12\n",
      "500/500 - 13s - loss: 1.5194 - accuracy: 0.3449 - 13s/epoch - 25ms/step\n",
      "Epoch 11/12\n",
      "500/500 - 13s - loss: 1.5115 - accuracy: 0.3379 - 13s/epoch - 26ms/step\n",
      "Epoch 12/12\n",
      "500/500 - 13s - loss: 1.4951 - accuracy: 0.3340 - 13s/epoch - 26ms/step\n",
      "63/63 [==============================] - 1s 10ms/step\n",
      "\n",
      "LSTM RNN Classification Report:\n",
      "\n",
      "              precision    recall  f1-score   support\n",
      "\n",
      "       anger       0.60      0.01      0.02       275\n",
      "        fear       0.00      0.00      0.00       224\n",
      "         joy       0.35      1.00      0.52       695\n",
      "        love       0.00      0.00      0.00       159\n",
      "     sadness       0.00      0.00      0.00       581\n",
      "    surprise       0.00      0.00      0.00        66\n",
      "\n",
      "    accuracy                           0.35      2000\n",
      "   macro avg       0.16      0.17      0.09      2000\n",
      "weighted avg       0.20      0.35      0.18      2000\n",
      "\n",
      "RNN with LSTM model saved.\n"
     ]
    }
   ],
   "source": [
    "rnn_model = train_rnn_model(train_df, test_df, label2id, epochs=12)\n",
    "rnn_model.save(os.path.join(MODELS, \"rnn_model.keras\"))\n",
    "print(\"RNN with LSTM model saved.\")\n"
   ]
  },
  {
   "cell_type": "markdown",
   "id": "6f034c3d",
   "metadata": {},
   "source": [
    "### Training BERT Transformner"
   ]
  },
  {
   "cell_type": "code",
   "execution_count": null,
   "id": "e0d3cad1",
   "metadata": {},
   "outputs": [],
   "source": [
    "transformer_model, tokenizer = train_transformer_model(\n",
    "    train_df, test_df, label2id, epochs=3\n",
    ")\n",
    "\n",
    "# Save from notebook\n",
    "save_path = os.path.join(MODELS, \"bert_model\")\n",
    "transformer_model.save_pretrained(save_path)\n",
    "tokenizer.save_pretrained(save_path)\n",
    "\n",
    "print(f\"BERT model saved.\")\n"
   ]
  },
  {
   "cell_type": "code",
   "execution_count": null,
   "id": "c55a6f3f",
   "metadata": {},
   "outputs": [],
   "source": []
  }
 ],
 "metadata": {
  "kernelspec": {
   "display_name": "penv",
   "language": "python",
   "name": "python3"
  },
  "language_info": {
   "codemirror_mode": {
    "name": "ipython",
    "version": 3
   },
   "file_extension": ".py",
   "mimetype": "text/x-python",
   "name": "python",
   "nbconvert_exporter": "python",
   "pygments_lexer": "ipython3",
   "version": "3.9.21"
  }
 },
 "nbformat": 4,
 "nbformat_minor": 5
}
