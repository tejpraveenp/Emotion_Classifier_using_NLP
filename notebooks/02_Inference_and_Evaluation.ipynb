{
 "cells": [
  {
   "cell_type": "markdown",
   "id": "e0f118ee-62d1-4512-af48-6647f807dd0b",
   "metadata": {},
   "source": [
    "# Model Evaluation"
   ]
  },
  {
   "cell_type": "markdown",
   "id": "6fe94759-469d-4f23-ae10-34bf6cab6441",
   "metadata": {},
   "source": [
    "## Imports and Setup"
   ]
  },
  {
   "cell_type": "code",
   "execution_count": 27,
   "id": "8c3f93de-730c-47fa-ac8e-c9ceca00b0ee",
   "metadata": {},
   "outputs": [],
   "source": [
    "import sys\n",
    "sys.path.append(\"..\")\n",
    "\n",
    "import warnings\n",
    "warnings.filterwarnings(\"ignore\")\n",
    "\n",
    "import os\n",
    "import numpy as np\n",
    "import pandas as pd\n",
    "from sklearn.metrics import classification_report\n",
    "from tensorflow.keras.models import load_model\n",
    "from tensorflow.keras.utils import to_categorical\n",
    "import matplotlib.pyplot as plt\n",
    "import seaborn as sns\n",
    "from sklearn.metrics import confusion_matrix, ConfusionMatrixDisplay, classification_report"
   ]
  },
  {
   "cell_type": "code",
   "execution_count": 6,
   "id": "24d02db5-0c2a-4a4c-a04a-95d16330e708",
   "metadata": {},
   "outputs": [],
   "source": [
    "# Paths\n",
    "MODELS = \"../models/\"\n",
    "DATA_PATH = \"../data/validation.txt\"\n",
    "\n",
    "# Load label encoders (reuse from training)\n",
    "from utils.preprocess import load_data, get_label_encoder\n",
    "\n",
    "# Load training data just for label2id mapping\n",
    "train_df = load_data(\"../data/train.txt\")\n",
    "label2id, id2label = get_label_encoder(train_df[\"label\"])\n"
   ]
  },
  {
   "cell_type": "markdown",
   "id": "ac1c798b-cda0-4847-8e17-797a64b6bd75",
   "metadata": {},
   "source": [
    "## Load and Preprocess Validation Dataset"
   ]
  },
  {
   "cell_type": "code",
   "execution_count": 8,
   "id": "2bea7e98-8c8c-4190-9266-d6dca0679990",
   "metadata": {},
   "outputs": [
    {
     "name": "stdout",
     "output_type": "stream",
     "text": [
      "Sample validation data:\n",
      "                                                text    label  label_id\n",
      "0  im feeling quite sad and sorry for myself but ...  sadness         4\n",
      "1  i feel like i am still looking at a blank canv...  sadness         4\n",
      "2                     i feel like a faithful servant     love         3\n",
      "3                  i am just feeling cranky and blue    anger         0\n",
      "4  i can have for a treat or if i am feeling festive      joy         2\n"
     ]
    }
   ],
   "source": [
    "val_df = load_data(DATA_PATH)\n",
    "val_df[\"label_id\"] = val_df[\"label\"].map(label2id)\n",
    "\n",
    "print(\"Sample validation data:\")\n",
    "print(val_df.head())\n"
   ]
  },
  {
   "cell_type": "markdown",
   "id": "aa2d37a7-8070-4ce8-9b2e-889cf21835cb",
   "metadata": {},
   "source": [
    "## FCNN Evaluation"
   ]
  },
  {
   "cell_type": "code",
   "execution_count": 19,
   "id": "0f0486fc-81e4-4194-9465-662ca22b597b",
   "metadata": {},
   "outputs": [
    {
     "name": "stdout",
     "output_type": "stream",
     "text": [
      "63/63 [==============================] - 0s 2ms/step\n",
      "\n",
      "FCNN on Validation Set:\n",
      "\n",
      "              precision    recall  f1-score   support\n",
      "\n",
      "       anger       0.89      0.85      0.87       275\n",
      "        fear       0.80      0.82      0.81       212\n",
      "         joy       0.91      0.91      0.91       704\n",
      "        love       0.80      0.76      0.78       178\n",
      "     sadness       0.88      0.93      0.90       550\n",
      "    surprise       0.82      0.74      0.78        81\n",
      "\n",
      "    accuracy                           0.88      2000\n",
      "   macro avg       0.85      0.83      0.84      2000\n",
      "weighted avg       0.88      0.88      0.87      2000\n",
      "\n"
     ]
    }
   ],
   "source": [
    "from sklearn.feature_extraction.text import TfidfVectorizer\n",
    "\n",
    "fcnn_model = load_model(os.path.join(MODELS, \"fcnn_model.keras\"))\n",
    "\n",
    "tfidf = TfidfVectorizer(max_features=5000)\n",
    "tfidf.fit(train_df['text'])\n",
    "\n",
    "X_val_fcnn = tfidf.transform(val_df[\"text\"]).toarray()\n",
    "y_true = val_df[\"label_id\"].values\n",
    "\n",
    "# Predict\n",
    "y_pred_probs = fcnn_model.predict(X_val_fcnn)\n",
    "y_pred_fcnn = np.argmax(y_pred_probs, axis=1)\n",
    "\n",
    "print(\"\\nFCNN on Validation Set:\\n\")\n",
    "print(classification_report(y_true, y_pred_fcnn, target_names=label2id.keys(), zero_division=0))\n",
    "report_fcnn = classification_report(\n",
    "    y_true, y_pred_fcnn,\n",
    "    target_names=label2id.keys(),\n",
    "    output_dict=True,\n",
    "    zero_division=0\n",
    ")"
   ]
  },
  {
   "cell_type": "markdown",
   "id": "d8699770-fe9c-444d-8d66-56216674e105",
   "metadata": {},
   "source": [
    "## RNN with LSTM Evaluation"
   ]
  },
  {
   "cell_type": "code",
   "execution_count": 23,
   "id": "2584cb2a-1327-42f2-85c3-eb827d09f017",
   "metadata": {},
   "outputs": [
    {
     "name": "stdout",
     "output_type": "stream",
     "text": [
      "63/63 [==============================] - 1s 7ms/step\n",
      "\n",
      "RNN on Validation Set:\n",
      "\n",
      "              precision    recall  f1-score   support\n",
      "\n",
      "       anger       0.94      0.92      0.93       275\n",
      "        fear       0.91      0.78      0.84       212\n",
      "         joy       0.93      0.92      0.93       704\n",
      "        love       0.82      0.82      0.82       178\n",
      "     sadness       0.91      0.96      0.93       550\n",
      "    surprise       0.75      0.86      0.80        81\n",
      "\n",
      "    accuracy                           0.91      2000\n",
      "   macro avg       0.88      0.88      0.88      2000\n",
      "weighted avg       0.91      0.91      0.91      2000\n",
      "\n"
     ]
    }
   ],
   "source": [
    "from tensorflow.keras.preprocessing.text import Tokenizer\n",
    "from tensorflow.keras.preprocessing.sequence import pad_sequences\n",
    "\n",
    "# Load model\n",
    "rnn_model = load_model(os.path.join(MODELS, \"rnn_model.keras\"))\n",
    "\n",
    "# Tokenizer\n",
    "tokenizer = Tokenizer(num_words=10000, oov_token=\"<OOV>\")\n",
    "tokenizer.fit_on_texts(train_df[\"text\"])\n",
    "\n",
    "X_val_seq = tokenizer.texts_to_sequences(val_df[\"text\"])\n",
    "X_val_pad = pad_sequences(X_val_seq, maxlen=50, padding='post', truncating='post')\n",
    "\n",
    "y_pred_probs_rnn = rnn_model.predict(X_val_pad)\n",
    "y_pred_rnn = np.argmax(y_pred_probs_rnn, axis=1)\n",
    "\n",
    "print(\"\\nRNN on Validation Set:\\n\")\n",
    "print(classification_report(y_true, y_pred_rnn, target_names=label2id.keys(), zero_division=0))\n",
    "\n",
    "report_rnn = classification_report(\n",
    "    y_true, y_pred_rnn,\n",
    "    target_names=label2id.keys(),\n",
    "    output_dict=True,\n",
    "    zero_division=0\n",
    ")"
   ]
  },
  {
   "cell_type": "markdown",
   "id": "a942cb8b-fe63-4883-9ae2-824c15719ef1",
   "metadata": {},
   "source": [
    "## Transformer (Bert based) Evaluation"
   ]
  },
  {
   "cell_type": "code",
   "execution_count": 24,
   "id": "e33a8184-4510-48ce-b2ab-2645e703f94a",
   "metadata": {},
   "outputs": [
    {
     "data": {
      "text/html": [],
      "text/plain": [
       "<IPython.core.display.HTML object>"
      ]
     },
     "metadata": {},
     "output_type": "display_data"
    },
    {
     "name": "stdout",
     "output_type": "stream",
     "text": [
      "\n",
      "BERT on Validation Set:\n",
      "\n",
      "              precision    recall  f1-score   support\n",
      "\n",
      "       anger       0.94      0.93      0.93       275\n",
      "        fear       0.88      0.94      0.91       212\n",
      "         joy       0.96      0.96      0.96       704\n",
      "        love       0.92      0.87      0.89       178\n",
      "     sadness       0.96      0.97      0.96       550\n",
      "    surprise       0.92      0.81      0.86        81\n",
      "\n",
      "    accuracy                           0.94      2000\n",
      "   macro avg       0.93      0.91      0.92      2000\n",
      "weighted avg       0.94      0.94      0.94      2000\n",
      "\n"
     ]
    }
   ],
   "source": [
    "from transformers import BertTokenizer, BertForSequenceClassification, Trainer\n",
    "from torch.utils.data import Dataset\n",
    "import torch\n",
    "\n",
    "# Load tokenizer and model\n",
    "bert_path = os.path.join(MODELS, \"bert_model\")\n",
    "tokenizer = BertTokenizer.from_pretrained(bert_path)\n",
    "model = BertForSequenceClassification.from_pretrained(bert_path)\n",
    "model.eval()\n",
    "\n",
    "class EmotionDataset(Dataset):\n",
    "    def __init__(self, texts, labels, tokenizer, max_length=128):\n",
    "        self.encodings = tokenizer(texts, truncation=True, padding=True, max_length=max_length)\n",
    "        self.labels = labels\n",
    "\n",
    "    def __getitem__(self, idx):\n",
    "        item = {key: torch.tensor(val[idx]) for key, val in self.encodings.items()}\n",
    "        item[\"labels\"] = torch.tensor(self.labels[idx])\n",
    "        return item\n",
    "\n",
    "    def __len__(self):\n",
    "        return len(self.labels)\n",
    "\n",
    "val_dataset = EmotionDataset(val_df[\"text\"].tolist(), val_df[\"label_id\"].tolist(), tokenizer)\n",
    "\n",
    "trainer = Trainer(model=model)\n",
    "preds_output = trainer.predict(val_dataset)\n",
    "y_pred_bert = np.argmax(preds_output.predictions, axis=1)\n",
    "\n",
    "print(\"\\nBERT on Validation Set:\\n\")\n",
    "print(classification_report(y_true, y_pred_bert, target_names=label2id.keys(), zero_division=0))\n",
    "report_bert = classification_report(\n",
    "    y_true, y_pred_bert,\n",
    "    target_names=label2id.keys(),\n",
    "    output_dict=True,\n",
    "    zero_division=0\n",
    ")\n"
   ]
  },
  {
   "cell_type": "markdown",
   "id": "148c6537-8e18-4292-80be-e6fdabd60b21",
   "metadata": {},
   "source": [
    "# Model Comparision"
   ]
  },
  {
   "cell_type": "code",
   "execution_count": 25,
   "id": "cdb7e24f-c314-4d87-9823-3eec91d53dd2",
   "metadata": {},
   "outputs": [
    {
     "data": {
      "text/html": [
       "<div>\n",
       "<style scoped>\n",
       "    .dataframe tbody tr th:only-of-type {\n",
       "        vertical-align: middle;\n",
       "    }\n",
       "\n",
       "    .dataframe tbody tr th {\n",
       "        vertical-align: top;\n",
       "    }\n",
       "\n",
       "    .dataframe thead th {\n",
       "        text-align: right;\n",
       "    }\n",
       "</style>\n",
       "<table border=\"1\" class=\"dataframe\">\n",
       "  <thead>\n",
       "    <tr style=\"text-align: right;\">\n",
       "      <th></th>\n",
       "      <th>Model</th>\n",
       "      <th>Accuracy</th>\n",
       "      <th>Precision (macro avg)</th>\n",
       "      <th>Recall (macro avg)</th>\n",
       "      <th>F1-score (macro avg)</th>\n",
       "    </tr>\n",
       "  </thead>\n",
       "  <tbody>\n",
       "    <tr>\n",
       "      <th>0</th>\n",
       "      <td>FCNN</td>\n",
       "      <td>0.8755</td>\n",
       "      <td>0.8523</td>\n",
       "      <td>0.8339</td>\n",
       "      <td>0.8424</td>\n",
       "    </tr>\n",
       "    <tr>\n",
       "      <th>1</th>\n",
       "      <td>RNN</td>\n",
       "      <td>0.9055</td>\n",
       "      <td>0.8775</td>\n",
       "      <td>0.8774</td>\n",
       "      <td>0.8758</td>\n",
       "    </tr>\n",
       "    <tr>\n",
       "      <th>2</th>\n",
       "      <td>BERT</td>\n",
       "      <td>0.9435</td>\n",
       "      <td>0.9292</td>\n",
       "      <td>0.9150</td>\n",
       "      <td>0.9213</td>\n",
       "    </tr>\n",
       "  </tbody>\n",
       "</table>\n",
       "</div>"
      ],
      "text/plain": [
       "  Model  Accuracy  Precision (macro avg)  Recall (macro avg)  \\\n",
       "0  FCNN    0.8755                 0.8523              0.8339   \n",
       "1   RNN    0.9055                 0.8775              0.8774   \n",
       "2  BERT    0.9435                 0.9292              0.9150   \n",
       "\n",
       "   F1-score (macro avg)  \n",
       "0                0.8424  \n",
       "1                0.8758  \n",
       "2                0.9213  "
      ]
     },
     "metadata": {},
     "output_type": "display_data"
    }
   ],
   "source": [
    "summary_df = pd.DataFrame({\n",
    "    \"Model\": [\"FCNN\", \"RNN\", \"BERT\"],\n",
    "    \"Accuracy\": [\n",
    "        report_fcnn[\"accuracy\"],\n",
    "        report_rnn[\"accuracy\"],\n",
    "        report_bert[\"accuracy\"]\n",
    "    ],\n",
    "    \"Precision (macro avg)\": [\n",
    "        report_fcnn[\"macro avg\"][\"precision\"],\n",
    "        report_rnn[\"macro avg\"][\"precision\"],\n",
    "        report_bert[\"macro avg\"][\"precision\"]\n",
    "    ],\n",
    "    \"Recall (macro avg)\": [\n",
    "        report_fcnn[\"macro avg\"][\"recall\"],\n",
    "        report_rnn[\"macro avg\"][\"recall\"],\n",
    "        report_bert[\"macro avg\"][\"recall\"]\n",
    "    ],\n",
    "    \"F1-score (macro avg)\": [\n",
    "        report_fcnn[\"macro avg\"][\"f1-score\"],\n",
    "        report_rnn[\"macro avg\"][\"f1-score\"],\n",
    "        report_bert[\"macro avg\"][\"f1-score\"]\n",
    "    ]\n",
    "})\n",
    "\n",
    "import seaborn as sns\n",
    "import matplotlib.pyplot as plt\n",
    "import pandas as pd\n",
    "\n",
    "display(summary_df.round(4))\n"
   ]
  },
  {
   "cell_type": "markdown",
   "id": "32ebd4b3-6d80-415d-8339-d2c5210d8bac",
   "metadata": {},
   "source": [
    "## Which Model Best Understands Emotions?"
   ]
  },
  {
   "cell_type": "code",
   "execution_count": 26,
   "id": "0a942f44-6cf2-41f6-866a-ccd4a00f1cf8",
   "metadata": {},
   "outputs": [
    {
     "data": {
      "image/png": "[encoded data removed]",
      "text/plain": [
       "<Figure size 1000x600 with 1 Axes>"
      ]
     },
     "metadata": {},
     "output_type": "display_data"
    }
   ],
   "source": [
    "melted = summary_df.melt(id_vars=\"Model\", var_name=\"Metric\", value_name=\"Score\")\n",
    "\n",
    "plt.figure(figsize=(10, 6))\n",
    "sns.barplot(data=melted, x=\"Metric\", y=\"Score\", hue=\"Model\")\n",
    "plt.title(\"Model Comparison on Validation Set\")\n",
    "plt.xticks(rotation=45)\n",
    "plt.ylim(0, 1)\n",
    "plt.grid(True)\n",
    "plt.tight_layout()\n",
    "plt.show()\n"
   ]
  },
  {
   "cell_type": "markdown",
   "id": "f8a3300b-c620-4bf2-b208-ec56fcd609dc",
   "metadata": {},
   "source": [
    "\n",
    "We tested three different models - BERT, RNN, and FCNN, to see how well they could recognize emotions. We looked at four key things: Accuracy, Precision, Recall, F1-score.\n",
    "\n",
    "What We Found\n",
    "Here, as we see the scores, BERT is the best model. It significantly outperformed both RNN and FCNN.\n",
    "\n",
    "- Its high F1-score (0.9213) tells us that BERT is excellent at recognizing emotions, consistently and accurately for all types of feelings.\n",
    "\n",
    "- RNN did a pretty good job, noticeably better than FCNN, especially when it came to finding all the examples of each emotion (recall) and its overall balanced performance (F1-score).\n",
    "\n",
    "- FCNN, while simpler and faster, struggled a bit. It didn't do as well at picking up on the subtle differences between emotions, resulting in a bit lower F1-score (0.8424). \n",
    "\n",
    "\n",
    "If we need a model that's truly excellent at understanding and classifying emotions, BERT is your best one here. It's highly accurate and performs consistently well across all emotion categories. RNN is a solid alternative, while FCNN is more of a basic option that can identify general emotions but misses the finer details."
   ]
  },
  {
   "cell_type": "markdown",
   "id": "fa8771e5-d174-4bf4-9e48-e025b39b1df3",
   "metadata": {},
   "source": [
    "## How Confident Are Our Emotion Models?"
   ]
  },
  {
   "cell_type": "code",
   "execution_count": 37,
   "id": "b6991109-fb46-4cdb-a6f4-7042d201ca52",
   "metadata": {},
   "outputs": [
    {
     "name": "stdout",
     "output_type": "stream",
     "text": [
      "63/63 [==============================] - 1s 7ms/step\n",
      "63/63 [==============================] - 1s 23ms/step\n"
     ]
    },
    {
     "data": {
      "image/png": "[encoded data removed]",
      "text/plain": [
       "<Figure size 1000x500 with 1 Axes>"
      ]
     },
     "metadata": {},
     "output_type": "display_data"
    }
   ],
   "source": [
    "from scipy.special import softmax\n",
    "\n",
    "# FCNN confidence scores\n",
    "conf_fcnn = np.max(fcnn_model.predict(X_val_fcnn), axis=1)\n",
    "\n",
    "# RNN confidence scores\n",
    "conf_rnn = np.max(rnn_model.predict(X_val_pad), axis=1)\n",
    "\n",
    "# BERT confidence scores (convert logits to softmax probs)\n",
    "logits_bert = preds_output.predictions  # from trainer.predict()\n",
    "probs_bert = softmax(logits_bert, axis=1)\n",
    "conf_bert = np.max(probs_bert, axis=1)\n",
    "\n",
    "plt.figure(figsize=(10, 5))\n",
    "sns.kdeplot(conf_fcnn, label=\"FCNN\", fill=True)\n",
    "sns.kdeplot(conf_rnn, label=\"RNN\", fill=True)\n",
    "sns.kdeplot(conf_bert, label=\"BERT\", fill=True)\n",
    "plt.title(\"Confidence Score Distribution (Max Softmax Probability)\")\n",
    "plt.xlabel(\"Confidence\")\n",
    "plt.ylabel(\"Density\")\n",
    "plt.legend()\n",
    "plt.grid(True)\n",
    "plt.show()"
   ]
  },
  {
   "cell_type": "markdown",
   "id": "a0d6bf6e-62dd-4488-b358-84639cdcfbe0",
   "metadata": {},
   "source": [
    "This graph tells us how \"sure\" our FCNN and RNN models are when they make a prediction about an emotion.\n",
    "\n",
    "`x-axis` : This goes from low confidence (closer to 0) to very high confidence (closer to 1.0).\n",
    "\n",
    "`y-axis` : This shows how many of the predictions fall into each confidence level. A taller bar means more predictions had that level of confidence.\n",
    "\n",
    "\n",
    "- BERT shows the highest peak near 1.0, suggesting it is the most consistently confident in its predictions.\n",
    "\n",
    "- RNN has a slightly broader distribution than BERT, meaning it makes more moderate-confidence predictions in some cases.\n",
    "\n",
    "- FCNN, though also confident, has a slightly less sharp peak compared to BERT and RNN.\n",
    "\n",
    "\n",
    "All models are highly confident, but:\n",
    "\n",
    "- BERT is both highly confident and more accurate (as per earlier metrics) — a strong sign of calibration.\n",
    "\n",
    "- RNN makes a few more uncertain predictions (a small bump around 0.6–0.8).\n",
    "\n",
    "- FCNN shows slightly lower overall confidence density than BERT, aligning with its slightly weaker performance.\n",
    "\n",
    "BERT not only outperforms in accuracy and F1, but also demonstrates the most confident and well-calibrated prediction behavior. RNN follows closely, while FCNN shows reasonable confidence but slightly less consistency."
   ]
  },
  {
   "cell_type": "markdown",
   "id": "c79368ea-44c0-4622-b7e9-016d2ffbcf4c",
   "metadata": {},
   "source": [
    "## Mislabelled prediction samples"
   ]
  },
  {
   "cell_type": "code",
   "execution_count": 38,
   "id": "b5d5f9de-2518-47bb-8ef6-cf01ecfa3684",
   "metadata": {},
   "outputs": [
    {
     "name": "stdout",
     "output_type": "stream",
     "text": [
      "\n",
      "Showing 5 misclassified examples from pred_fcnn:\n",
      "\n",
      "Text: i feel so alone in the world with nobody to talk to to share my feelings with\n",
      "True: sadness, Predicted: fear\n",
      "---\n",
      "Text: i can really decode but im sorry i have to vomit my feelings out because i am so cranky and everything is getting on my nerves\n",
      "True: anger, Predicted: sadness\n",
      "---\n",
      "Text: i consistently anticipation it s like that because i feel so admired and i feel so like safe in nature\n",
      "True: love, Predicted: joy\n",
      "---\n",
      "Text: ive never been particularly bothered about my age or the ageing process and while i feel slightly surprised that im nearly i dont really mind\n",
      "True: surprise, Predicted: anger\n",
      "---\n",
      "Text: i said it when i read about people who are loosing more weight losing it quicker or who are just being generally more fabulous than me i feel envious\n",
      "True: anger, Predicted: joy\n",
      "---\n",
      "\n",
      "Showing 5 misclassified examples from pred_rnn:\n",
      "\n",
      "Text: i so desperately want to be able to help but i feel so helpless\n",
      "True: fear, Predicted: sadness\n",
      "---\n",
      "Text: i touched them and boy did they feel weird like jelly\n",
      "True: fear, Predicted: surprise\n",
      "---\n",
      "Text: i feel anything internally i m convinced that i m feeling my last breath heartbeat burp whatever\n",
      "True: joy, Predicted: fear\n",
      "---\n",
      "Text: i was sleeping when i heard the neighbours screaming\n",
      "True: fear, Predicted: joy\n",
      "---\n",
      "Text: i see newborn pictures though especially the kind taken in the hospital i mostly feel acutely sympathetic to the exhausted people holding these tiny swaddled and red faced confusing beasts\n",
      "True: love, Predicted: sadness\n",
      "---\n",
      "\n",
      "Showing 5 misclassified examples from pred_bert:\n",
      "\n",
      "Text: im glad i feel this way because if i didnt then id know that i had finally hit that point of not caring about anyone or anything\n",
      "True: love, Predicted: joy\n",
      "---\n",
      "Text: i feel stressed or my family is being negative work is my getaway and every stressor goes away because of the kids\n",
      "True: sadness, Predicted: anger\n",
      "---\n",
      "Text: i feel so amazing and i m so by a href http yourweightlossmethods\n",
      "True: joy, Predicted: surprise\n",
      "---\n",
      "Text: i hate being the party girl because i feel like such a hypocrite because i always hated them\n",
      "True: sadness, Predicted: anger\n",
      "---\n",
      "Text: im sure much of the advantage is psychological the feeling ive out clevered the competition who are now hopelessly burdened with their big chainring jump\n",
      "True: sadness, Predicted: joy\n",
      "---\n"
     ]
    }
   ],
   "source": [
    "val_df[\"true\"] = y_true\n",
    "val_df[\"pred_fcnn\"] = y_pred_fcnn\n",
    "val_df[\"pred_rnn\"] = y_pred_rnn\n",
    "val_df[\"pred_bert\"] = y_pred_bert\n",
    "\n",
    "def show_misclassifications(df, model_col, num=5):\n",
    "    mismatches = df[df[model_col] != df[\"true\"]]\n",
    "    print(f\"\\nShowing {num} misclassified examples from {model_col}:\\n\")\n",
    "    for _, row in mismatches.sample(num, random_state=42).iterrows():\n",
    "        print(f\"Text: {row['text']}\")\n",
    "        print(f\"True: {id2label[row['true']]}, Predicted: {id2label[row[model_col]]}\")\n",
    "        print(\"---\")\n",
    "\n",
    "show_misclassifications(val_df, \"pred_fcnn\")\n",
    "show_misclassifications(val_df, \"pred_rnn\")\n",
    "show_misclassifications(val_df, \"pred_bert\")\n"
   ]
  },
  {
   "cell_type": "markdown",
   "id": "a78051c8-2ad7-4869-a11c-331167415da9",
   "metadata": {},
   "source": [
    "This evaluation step shows a few examples from the validation dataset where each model made an incorrect prediction. For each misclassification, we have:\n",
    "\n",
    "- The input text\n",
    "\n",
    "- The true emotion label\n",
    "\n",
    "- The predicted label"
   ]
  },
  {
   "cell_type": "markdown",
   "id": "6cec38a1-aabc-44f0-9f5f-118954b01ec9",
   "metadata": {},
   "source": [
    "## Per-Class F1 Score Comparison"
   ]
  },
  {
   "cell_type": "code",
   "execution_count": 36,
   "id": "fbd2890a-70c5-473e-8954-8b8c743aa577",
   "metadata": {},
   "outputs": [
    {
     "data": {
      "image/png": "[encoded data removed]",
      "text/plain": [
       "<Figure size 1000x600 with 1 Axes>"
      ]
     },
     "metadata": {},
     "output_type": "display_data"
    }
   ],
   "source": [
    "# Get class-wise F1-scores from reports\n",
    "from sklearn.metrics import classification_report\n",
    "\n",
    "report_fcnn = classification_report(y_true, y_pred_fcnn, output_dict=True, zero_division=0)\n",
    "report_rnn = classification_report(y_true, y_pred_rnn, output_dict=True, zero_division=0)\n",
    "report_bert = classification_report(y_true, y_pred_bert, output_dict=True, zero_division=0)\n",
    "\n",
    "# Map id2label for pretty printing\n",
    "id2label = {v: k for k, v in label2id.items()}\n",
    "\n",
    "f1_df = pd.DataFrame({\n",
    "    \"FCNN\": {id2label[int(k)]: v[\"f1-score\"] for k, v in report_fcnn.items() if k.isdigit()},\n",
    "    \"RNN\":  {id2label[int(k)]: v[\"f1-score\"] for k, v in report_rnn.items() if k.isdigit()},\n",
    "    \"BERT\": {id2label[int(k)]: v[\"f1-score\"] for k, v in report_bert.items() if k.isdigit()},\n",
    "})\n",
    "\n",
    "f1_df.plot(kind='bar', figsize=(10, 6))\n",
    "plt.title(\"Per-Class F1 Score Comparison\")\n",
    "plt.ylabel(\"F1 Score\")\n",
    "plt.xticks(rotation=45)\n",
    "plt.ylim(0, 1)\n",
    "plt.grid(True)\n",
    "plt.legend(title=\"Model\")\n",
    "plt.tight_layout()\n",
    "plt.show()\n"
   ]
  },
  {
   "cell_type": "markdown",
   "id": "d075c823-32e2-40c4-812b-b1e87f832b5e",
   "metadata": {},
   "source": [
    "BERT consistently outperforms FCNN and RNN across all emotion classes, especially in: joy, sadness, and love, surprise, fear\n",
    "\n",
    "RNN is a strong middle performer, showing reliable results with modest gaps from BERT.\n",
    "\n",
    "FCNN generally lags behind, with the lowest F1 scores, especially in fear and surprise, suggesting difficulty capturing subtler or less frequent emotions\n",
    "\n",
    "BERT shows superior per-class performance, making it the most well-rounded model. This visualization confirms its robustness not only in overall metrics but also in capturing emotional expressions across all categories."
   ]
  },
  {
   "cell_type": "markdown",
   "id": "bef546ac-ae40-42c4-b4ac-76613bb05872",
   "metadata": {},
   "source": [
    "# Conclusion"
   ]
  },
  {
   "cell_type": "markdown",
   "id": "1c21e7a0-1112-48e2-8033-1d94711e448c",
   "metadata": {},
   "source": [
    "Our evaluation of three models - FCNN, RNN with LSTM, and BER for emotion classification decisively points to BERT as the best performer.\n",
    "\n",
    "`BERT` is the best model overall - highly accurate, confident, and consistent across all emotion classes.\n",
    "\n",
    "`RNN` is a solid alternative, offering decent performance and interpretable insights at a lower computational cost.\n",
    "\n",
    "`FCNN` serves well as a quick baseline, but doesn’t capture deeper linguistic subtleties.\n",
    "\n",
    "**BERT** consistently outperformed both FCNN and RNN across all quantitative metrics, including accuracy, precision, recall, and F1-score. This demonstrates its exceptional ability to accurately classify emotions. Beyond overall performance, BERT also achieved the highest F1-scores for individual emotion categories, even for more subtle emotions, showcasing its robust understanding. Its predictions were also the most confident and well-calibrated, indicating high reliability.\n",
    "\n",
    "In essence, BERT's advanced architecture allows it to capture rich contextual information and nuanced emotional cues, making it the most reliable and effective solution. For real-world applications demanding precise and consistent emotion detection, BERT is clearly the optimal choice."
   ]
  },
  {
   "cell_type": "markdown",
   "id": "935dc594-cebd-46d3-94a7-b0e2a6b606b3",
   "metadata": {},
   "source": [
    "# How I Would Proceed with Another Text Classification Task"
   ]
  },
  {
   "cell_type": "markdown",
   "id": "3cd4b6a0-ef25-4ac3-9e45-56ce14bdb9d5",
   "metadata": {},
   "source": [
    "\n",
    "### 1. Understand the Problem\n",
    "\n",
    "Start by defining the objective clearly:\n",
    "\n",
    "- What is the classification target? (topic, sentiment, intent)\n",
    "- How many classes are involved?\n",
    "- Are the classes balanced?\n",
    "- Is the text domain-specific? (medical, legal, financial, etc.)\n",
    "\n",
    "\n",
    "### 2. Data Exploration & Preprocessing\n",
    "\n",
    "- Clean and normalize the text:\n",
    "  - Lowercasing\n",
    "  - Removing special characters, stopwords, punctuation\n",
    "  - Handling contractions and spelling corrections if needed\n",
    "- Visualize class distribution:\n",
    "  - Check for class imbalance using bar plots or pie charts\n",
    "- Tokenize and prepare the data:\n",
    "  - Use libraries like `nltk`, `spaCy`, or `transformers`\n",
    "  - Ensure consistent input lengths (padding/truncation)\n",
    "\n",
    "### 3. Build Baseline Models\n",
    "\n",
    "Start with simple models to establish a benchmark:\n",
    "\n",
    "- **TF-IDF + Logistic Regression/FCNN**: Good for quick evaluation\n",
    "- **RNN/LSTM**: For sequence-based problems where word order matters\n",
    "- **Pretrained Transformers (e.g., BERT)**: For deeper contextual understanding\n",
    "\n",
    "\n",
    "\n",
    "### 4. Evaluate Thoroughly\n",
    "\n",
    "Use both quantitative and qualitative metrics:\n",
    "\n",
    "- **Metrics**:\n",
    "  - Accuracy\n",
    "  - Precision, Recall, F1-score (macro and per-class)\n",
    "- **Visualization**:\n",
    "  - Confusion matrix\n",
    "  - Classification reports\n",
    "- **Analysis**:\n",
    "  - Review sample misclassifications\n",
    "  - Check confidence scores to understand model calibration\n",
    "\n",
    "\n",
    "\n",
    "### 5. Select & Fine-Tune the Best Model\n",
    "\n",
    "- Apply hyperparameter tuning\n",
    "- Use early stopping to avoid overfitting\n",
    "- Fine-tune pretrained models (like BERT, RoBERTa, etc.)\n",
    "- Select the model that balances:\n",
    "  - Performance\n",
    "  - Interpretability\n",
    "  - Inference speed\n",
    "\n",
    "\n",
    "\n",
    "### 6. Prepare for Deployment\n",
    "\n",
    "- Save the trained model and tokenizer\n",
    "- Optimize model for inference\n",
    "\n",
    "\n",
    "\n",
    "\n",
    "### 7. Next Steps & Iteration\n",
    "\n",
    "- Improve model performance by:\n",
    "  - Adding more data\n",
    "  - Using data augmentation techniques\n",
    "  - Improving annotations\n",
    "- Consider using domain-specific language models:\n",
    "  - e.g., BioBERT, FinBERT\n"
   ]
  }
 ],
 "metadata": {
  "kernelspec": {
   "display_name": "Python 3 (ipykernel)",
   "language": "python",
   "name": "python3"
  },
  "language_info": {
   "codemirror_mode": {
    "name": "ipython",
    "version": 3
   },
   "file_extension": ".py",
   "mimetype": "text/x-python",
   "name": "python",
   "nbconvert_exporter": "python",
   "pygments_lexer": "ipython3",
   "version": "3.9.21"
  }
 },
 "nbformat": 4,
 "nbformat_minor": 5
}
