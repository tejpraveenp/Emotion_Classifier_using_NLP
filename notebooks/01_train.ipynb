{
 "cells": [
  {
   "cell_type": "markdown",
   "id": "29d590e7",
   "metadata": {},
   "source": [
    "### Imports and Setup\n"
   ]
  },
  {
   "cell_type": "code",
   "execution_count": 1,
   "id": "0f45a8cf",
   "metadata": {},
   "outputs": [
    {
     "name": "stdout",
     "output_type": "stream",
     "text": [
      "WARNING:tensorflow:From C:\\Users\\gowth\\miniconda3\\envs\\penv\\lib\\site-packages\\keras\\src\\losses.py:2976: The name tf.losses.sparse_softmax_cross_entropy is deprecated. Please use tf.compat.v1.losses.sparse_softmax_cross_entropy instead.\n",
      "\n"
     ]
    }
   ],
   "source": [
    "import sys\n",
    "sys.path.append(\"..\")\n",
    "\n",
    "import os\n",
    "from utils.preprocess import load_data, get_label_encoder\n",
    "from utils.fcnn import train_fcnn_model\n",
    "from utils.rnn import train_rnn_model\n",
    "from utils.transformer import train_transformer_model\n",
    "\n",
    "\n",
    "import warnings\n",
    "warnings.filterwarnings(\"ignore\")\n",
    "\n",
    "MODELS = \"../models/\""
   ]
  },
  {
   "cell_type": "code",
   "execution_count": 2,
   "id": "33a2acd7",
   "metadata": {},
   "outputs": [
    {
     "name": "stdout",
     "output_type": "stream",
     "text": [
      "Training datga sample:\n",
      "                                                text    label  label_id\n",
      "0                            i didnt feel humiliated  sadness         4\n",
      "1  i can go from feeling so hopeless to so damned...  sadness         4\n",
      "2   im grabbing a minute to post i feel greedy wrong    anger         0\n",
      "3  i am ever feeling nostalgic about the fireplac...     love         3\n",
      "4                               i am feeling grouchy    anger         0\n",
      "Label2ID mapping: {'anger': 0, 'fear': 1, 'joy': 2, 'love': 3, 'sadness': 4, 'surprise': 5}\n"
     ]
    }
   ],
   "source": [
    "# Load data\n",
    "train_df = load_data(\"../data/train.txt\")\n",
    "test_df = load_data(\"../data/test.txt\")\n",
    "\n",
    "# Encode labels\n",
    "label2id, id2label = get_label_encoder(train_df['label'])\n",
    "train_df['label_id'] = train_df['label'].map(label2id)\n",
    "test_df['label_id'] = test_df['label'].map(label2id)\n",
    "\n",
    "print(\"Training datga sample:\")\n",
    "print(train_df.head())\n",
    "print(\"Label2ID mapping:\", label2id)\n"
   ]
  },
  {
   "cell_type": "markdown",
   "id": "cbe0da3e",
   "metadata": {},
   "source": [
    "### Training FCNN"
   ]
  },
  {
   "cell_type": "code",
   "execution_count": 6,
   "id": "1bc7bdc4",
   "metadata": {},
   "outputs": [
    {
     "name": "stdout",
     "output_type": "stream",
     "text": [
      "Epoch 1/10\n",
      "500/500 - 9s - loss: 0.8890 - accuracy: 0.6700 - 9s/epoch - 18ms/step\n",
      "Epoch 2/10\n",
      "500/500 - 8s - loss: 0.2457 - accuracy: 0.9176 - 8s/epoch - 17ms/step\n",
      "Epoch 3/10\n",
      "500/500 - 7s - loss: 0.1059 - accuracy: 0.9659 - 7s/epoch - 15ms/step\n",
      "Epoch 4/10\n",
      "500/500 - 7s - loss: 0.0585 - accuracy: 0.9806 - 7s/epoch - 14ms/step\n",
      "Epoch 5/10\n",
      "500/500 - 6s - loss: 0.0348 - accuracy: 0.9886 - 6s/epoch - 13ms/step\n",
      "Epoch 6/10\n",
      "500/500 - 6s - loss: 0.0327 - accuracy: 0.9901 - 6s/epoch - 13ms/step\n",
      "Epoch 7/10\n",
      "500/500 - 6s - loss: 0.0279 - accuracy: 0.9923 - 6s/epoch - 13ms/step\n",
      "Epoch 8/10\n",
      "500/500 - 7s - loss: 0.0211 - accuracy: 0.9934 - 7s/epoch - 13ms/step\n",
      "Epoch 9/10\n",
      "500/500 - 6s - loss: 0.0186 - accuracy: 0.9933 - 6s/epoch - 13ms/step\n",
      "Epoch 10/10\n",
      "500/500 - 6s - loss: 0.0196 - accuracy: 0.9931 - 6s/epoch - 13ms/step\n",
      "63/63 [==============================] - 1s 8ms/step\n",
      "\n",
      "FCNN Classification Report:\n",
      "\n",
      "              precision    recall  f1-score   support\n",
      "\n",
      "       anger       0.87      0.82      0.84       275\n",
      "        fear       0.80      0.83      0.82       224\n",
      "         joy       0.88      0.91      0.90       695\n",
      "        love       0.74      0.70      0.72       159\n",
      "     sadness       0.90      0.90      0.90       581\n",
      "    surprise       0.75      0.67      0.70        66\n",
      "\n",
      "    accuracy                           0.86      2000\n",
      "   macro avg       0.82      0.81      0.81      2000\n",
      "weighted avg       0.86      0.86      0.86      2000\n",
      "\n",
      "FCNN model saved.\n"
     ]
    }
   ],
   "source": [
    "fcnn_model = train_fcnn_model(train_df, test_df, label2id, epochs=10)\n",
    "fcnn_model.save(os.path.join(MODELS, \"fcnn_model.keras\"))\n",
    "print(\"FCNN model saved.\")\n"
   ]
  },
  {
   "cell_type": "markdown",
   "id": "700e1b4f",
   "metadata": {},
   "source": [
    "### Training RNN with LSTM"
   ]
  },
  {
   "cell_type": "code",
   "execution_count": 5,
   "id": "38bf2d55",
   "metadata": {},
   "outputs": [
    {
     "name": "stdout",
     "output_type": "stream",
     "text": [
      "Epoch 1/20\n",
      "500/500 - 9s - loss: 1.5950 - accuracy: 0.3241 - 9s/epoch - 18ms/step\n",
      "Epoch 2/20\n",
      "500/500 - 8s - loss: 1.5815 - accuracy: 0.3318 - 8s/epoch - 16ms/step\n",
      "Epoch 3/20\n",
      "500/500 - 7s - loss: 1.5184 - accuracy: 0.3464 - 7s/epoch - 15ms/step\n",
      "Epoch 4/20\n",
      "500/500 - 7s - loss: 1.5059 - accuracy: 0.3469 - 7s/epoch - 15ms/step\n",
      "Epoch 5/20\n",
      "500/500 - 7s - loss: 1.5795 - accuracy: 0.3346 - 7s/epoch - 15ms/step\n",
      "Epoch 6/20\n",
      "500/500 - 7s - loss: 1.5775 - accuracy: 0.3347 - 7s/epoch - 15ms/step\n",
      "Epoch 7/20\n",
      "500/500 - 7s - loss: 1.5569 - accuracy: 0.3431 - 7s/epoch - 15ms/step\n",
      "Epoch 8/20\n",
      "500/500 - 7s - loss: 1.5828 - accuracy: 0.3313 - 7s/epoch - 15ms/step\n",
      "Epoch 9/20\n",
      "500/500 - 7s - loss: 1.5830 - accuracy: 0.3326 - 7s/epoch - 15ms/step\n",
      "Epoch 10/20\n",
      "500/500 - 8s - loss: 1.5794 - accuracy: 0.3351 - 8s/epoch - 15ms/step\n",
      "Epoch 11/20\n",
      "500/500 - 8s - loss: 1.5638 - accuracy: 0.3374 - 8s/epoch - 15ms/step\n",
      "Epoch 12/20\n",
      "500/500 - 7s - loss: 1.2896 - accuracy: 0.3986 - 7s/epoch - 15ms/step\n",
      "Epoch 13/20\n",
      "500/500 - 8s - loss: 1.0658 - accuracy: 0.4487 - 8s/epoch - 15ms/step\n",
      "Epoch 14/20\n",
      "500/500 - 8s - loss: 0.9357 - accuracy: 0.5002 - 8s/epoch - 16ms/step\n",
      "Epoch 15/20\n",
      "500/500 - 8s - loss: 0.6531 - accuracy: 0.7219 - 8s/epoch - 15ms/step\n",
      "Epoch 16/20\n",
      "500/500 - 7s - loss: 0.3163 - accuracy: 0.9046 - 7s/epoch - 15ms/step\n",
      "Epoch 17/20\n",
      "500/500 - 8s - loss: 0.2038 - accuracy: 0.9400 - 8s/epoch - 15ms/step\n",
      "Epoch 18/20\n",
      "500/500 - 8s - loss: 0.1447 - accuracy: 0.9527 - 8s/epoch - 15ms/step\n",
      "Epoch 19/20\n",
      "500/500 - 8s - loss: 0.1136 - accuracy: 0.9639 - 8s/epoch - 15ms/step\n",
      "Epoch 20/20\n",
      "500/500 - 7s - loss: 0.1054 - accuracy: 0.9647 - 7s/epoch - 15ms/step\n",
      "63/63 [==============================] - 1s 6ms/step\n",
      "\n",
      "LSTM RNN Classification Report:\n",
      "\n",
      "              precision    recall  f1-score   support\n",
      "\n",
      "       anger       0.93      0.89      0.91       275\n",
      "        fear       0.93      0.83      0.87       224\n",
      "         joy       0.93      0.93      0.93       695\n",
      "        love       0.76      0.81      0.78       159\n",
      "     sadness       0.94      0.95      0.95       581\n",
      "    surprise       0.64      0.82      0.72        66\n",
      "\n",
      "    accuracy                           0.90      2000\n",
      "   macro avg       0.85      0.87      0.86      2000\n",
      "weighted avg       0.91      0.90      0.91      2000\n",
      "\n",
      "RNN with LSTM model saved.\n"
     ]
    }
   ],
   "source": [
    "rnn_model = train_rnn_model(train_df, test_df, label2id, epochs=20)\n",
    "rnn_model.save(os.path.join(MODELS, \"rnn_model.keras\"))\n",
    "print(\"RNN with LSTM model saved.\")\n"
   ]
  },
  {
   "cell_type": "markdown",
   "id": "6f034c3d",
   "metadata": {},
   "source": [
    "### Training BERT Transformner"
   ]
  },
  {
   "cell_type": "code",
   "execution_count": 3,
   "id": "e0d3cad1",
   "metadata": {},
   "outputs": [
    {
     "name": "stderr",
     "output_type": "stream",
     "text": [
      "Some weights of BertForSequenceClassification were not initialized from the model checkpoint at bert-base-uncased and are newly initialized: ['classifier.bias', 'classifier.weight']\n",
      "You should probably TRAIN this model on a down-stream task to be able to use it for predictions and inference.\n"
     ]
    },
    {
     "name": "stdout",
     "output_type": "stream",
     "text": [
      "Trainer is using device: cuda:0\n"
     ]
    },
    {
     "data": {
      "text/html": [
       "\n",
       "    <div>\n",
       "      \n",
       "      <progress value='3000' max='3000' style='width:300px; height:20px; vertical-align: middle;'></progress>\n",
       "      [3000/3000 20:01, Epoch 3/3]\n",
       "    </div>\n",
       "    <table border=\"1\" class=\"dataframe\">\n",
       "  <thead>\n",
       " <tr style=\"text-align: left;\">\n",
       "      <th>Epoch</th>\n",
       "      <th>Training Loss</th>\n",
       "      <th>Validation Loss</th>\n",
       "      <th>Accuracy</th>\n",
       "    </tr>\n",
       "  </thead>\n",
       "  <tbody>\n",
       "    <tr>\n",
       "      <td>1</td>\n",
       "      <td>0.156700</td>\n",
       "      <td>0.172648</td>\n",
       "      <td>0.932500</td>\n",
       "    </tr>\n",
       "    <tr>\n",
       "      <td>2</td>\n",
       "      <td>0.092800</td>\n",
       "      <td>0.152107</td>\n",
       "      <td>0.935000</td>\n",
       "    </tr>\n",
       "    <tr>\n",
       "      <td>3</td>\n",
       "      <td>0.086400</td>\n",
       "      <td>0.172425</td>\n",
       "      <td>0.930000</td>\n",
       "    </tr>\n",
       "  </tbody>\n",
       "</table><p>"
      ],
      "text/plain": [
       "<IPython.core.display.HTML object>"
      ]
     },
     "metadata": {},
     "output_type": "display_data"
    },
    {
     "data": {
      "text/html": [],
      "text/plain": [
       "<IPython.core.display.HTML object>"
      ]
     },
     "metadata": {},
     "output_type": "display_data"
    },
    {
     "name": "stdout",
     "output_type": "stream",
     "text": [
      "\n",
      "BERT Classification Report:\n",
      "\n",
      "              precision    recall  f1-score   support\n",
      "\n",
      "       anger       0.92      0.91      0.92       275\n",
      "        fear       0.86      0.92      0.89       224\n",
      "         joy       0.95      0.96      0.96       695\n",
      "        love       0.88      0.80      0.84       159\n",
      "     sadness       0.97      0.97      0.97       581\n",
      "    surprise       0.78      0.64      0.70        66\n",
      "\n",
      "    accuracy                           0.93      2000\n",
      "   macro avg       0.89      0.87      0.88      2000\n",
      "weighted avg       0.93      0.93      0.93      2000\n",
      "\n",
      "BERT model saved.\n"
     ]
    }
   ],
   "source": [
    "transformer_model, tokenizer = train_transformer_model(\n",
    "    train_df, test_df, label2id, epochs=3\n",
    ")\n",
    "\n",
    "# Save from notebook\n",
    "save_path = os.path.join(MODELS, \"bert_model\")\n",
    "transformer_model.save_pretrained(save_path)\n",
    "tokenizer.save_pretrained(save_path)\n",
    "\n",
    "print(f\"BERT model saved.\")\n"
   ]
  }
 ],
 "metadata": {
  "kernelspec": {
   "display_name": "Python 3 (ipykernel)",
   "language": "python",
   "name": "python3"
  },
  "language_info": {
   "codemirror_mode": {
    "name": "ipython",
    "version": 3
   },
   "file_extension": ".py",
   "mimetype": "text/x-python",
   "name": "python",
   "nbconvert_exporter": "python",
   "pygments_lexer": "ipython3",
   "version": "3.9.21"
  }
 },
 "nbformat": 4,
 "nbformat_minor": 5
}
